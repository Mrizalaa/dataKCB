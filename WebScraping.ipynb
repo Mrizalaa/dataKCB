{
  "nbformat": 4,
  "nbformat_minor": 0,
  "metadata": {
    "colab": {
      "provenance": []
    },
    "kernelspec": {
      "name": "python3",
      "display_name": "Python 3"
    },
    "language_info": {
      "name": "python"
    }
  },
  "cells": [
    {
      "cell_type": "code",
      "execution_count": null,
      "metadata": {
        "id": "WnAUzQWkj64y"
      },
      "outputs": [],
      "source": [
        "from selenium import webdriver\n",
        "from selenium.webdriver.chrome.service import Service\n",
        "from bs4 import BeautifulSoup\n",
        "import pandas as pd\n",
        "import time\n",
        "\n",
        "opsi = webdriver.ChromeOptions()\n",
        "opsi.add_argument('--headless')\n",
        "servis = Service('chromedriver.exe')\n",
        "driver = webdriver.Chrome(service=servis, options=opsi)\n",
        "\n",
        "shopee_link = \"https://www.mobil123.com/dealer/carsomeindonesia\"\n",
        "driver.set_window_size(1300,800)\n",
        "driver.get(shopee_link)\n",
        "\n",
        "rentang = 500\n",
        "for i in range(1,7):\n",
        "    akhir = rentang * i\n",
        "    perintah = \"window.scrollTo(0,\"+str(akhir)+\")\"\n",
        "    driver.execute_script(perintah)\n",
        "    print(\"loading ke-\"+str(i))\n",
        "    time.sleep(1)\n",
        "\n",
        "time.sleep(5)\n",
        "driver.save_screenshot(\"home.png\")\n",
        "content = driver.page_source\n",
        "driver.quit()\n",
        "\n",
        "data = BeautifulSoup(content,'html.parser')\n",
        "# print(data.encode(\"utf-8\"))\n",
        "\n",
        "i = 1\n",
        "base_url = \"https://shopee.co.id\"\n",
        "\n",
        "list_nama,list_gambar,list_harga,list_link,list_terjual,list_lokasi=[],[],[],[],[],[]\n",
        "\n",
        "for area in data.find_all('div',class_=\"col-xs-2-4 shopee-search-item-result__item\"):\n",
        "    print('proses data ke-'+str(i))\n",
        "    nama = area.find('div',class_=\"ie3A+n bM+7UW Cve6sh\").get_text()\n",
        "    gambar = area.find('img')['src']\n",
        "    harga = area.find('span',class_=\"ZEgDH9\").get_text()\n",
        "    link = base_url + area.find('a')['href']\n",
        "    terjual = area.find('div',class_=\"r6HknA uEPGHT\")\n",
        "    if terjual != None:\n",
        "        terjual = terjual.get_text()\n",
        "    lokasi = area.find('div',class_=\"zGGwiV\").get_text()\n",
        "\n",
        "    list_nama.append(nama)\n",
        "    list_gambar.append(gambar)\n",
        "    list_harga.append(harga)\n",
        "    list_link.append(link)\n",
        "\n",
        "    i+=1\n",
        "    print(\"------\")\n",
        "\n",
        "df = pd.DataFrame({'Nama':list_nama,'Gambar':list_gambar,'Harga':list_harga,'Link':list_link,})\n",
        "writer = pd.ExcelWriter('macbook.xlsx')\n",
        "df.to_excel(writer,'Sheet1',index=False)\n",
        "writer.save()"
      ]
    },
    {
      "cell_type": "code",
      "source": [
        "pip install selenium"
      ],
      "metadata": {
        "id": "MvR35U22kEcg"
      },
      "execution_count": null,
      "outputs": []
    }
  ]
}